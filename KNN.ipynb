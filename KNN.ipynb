{
 "cells": [
  {
   "cell_type": "code",
   "execution_count": 1,
   "metadata": {
    "scrolled": true
   },
   "outputs": [
    {
     "name": "stderr",
     "output_type": "stream",
     "text": [
      "/home/ciaskious/anaconda-here/lib/python3.5/site-packages/sklearn/utils/fixes.py:313: FutureWarning: numpy not_equal will not check object identity in the future. The comparison did not return the same result as suggested by the identity (`is`)) and will change.\n",
      "  _nan_object_mask = _nan_object_array != _nan_object_array\n"
     ]
    }
   ],
   "source": [
    "from __future__ import division\n",
    "import random\n",
    "\n",
    "import pandas as pd\n",
    "import numpy as np\n",
    "\n",
    "from imblearn.combine import SMOTETomek\n",
    "from imblearn.under_sampling import TomekLinks\n",
    "from imblearn.over_sampling import SMOTE\n",
    "\n",
    "from sklearn.neighbors import KNeighborsClassifier\n",
    "\n",
    "from sklearn.metrics import precision_recall_curve\n",
    "from sklearn.metrics import average_precision_score\n",
    "from sklearn.metrics import confusion_matrix, make_scorer\n",
    "from mlxtend.feature_selection import SequentialFeatureSelector as sfs\n",
    "%matplotlib inline\n",
    "\n",
    "from sklearn.model_selection import cross_val_score\n",
    "from sklearn.model_selection import GridSearchCV\n",
    "import matplotlib.pyplot as plt\n",
    "import seaborn as sns\n",
    "plt.style.use('ggplot')\n",
    "#!pip install sklearn\n",
    "from collections import Counter\n",
    "import os\n",
    "\n",
    "home_dir = os.getcwd()\n"
   ]
  },
  {
   "cell_type": "markdown",
   "metadata": {},
   "source": [
    "# Data preparation"
   ]
  },
  {
   "cell_type": "code",
   "execution_count": 2,
   "metadata": {
    "collapsed": true
   },
   "outputs": [],
   "source": [
    "def normalize_data(x):\n",
    "    return (x - x.min(0)) / x.ptp(0)"
   ]
  },
  {
   "cell_type": "code",
   "execution_count": 3,
   "metadata": {
    "collapsed": true
   },
   "outputs": [],
   "source": [
    "def preprocess_data(data):\n",
    "    data = data.replace(\"na\", 0)\n",
    "    data = data.replace(\"neg\", 0)\n",
    "    data = data.replace(\"pos\", 1)\n",
    "\n",
    "    return data"
   ]
  },
  {
   "cell_type": "code",
   "execution_count": 4,
   "metadata": {
    "collapsed": true
   },
   "outputs": [],
   "source": [
    "def oversampling(data, target):\n",
    "\n",
    "    smote = SMOTE(ratio='minority')\n",
    "    X_sm, y_sm = smote.fit_sample(data, target)\n",
    "\n",
    "    print(sorted(Counter(y_sm).items()))\n",
    "\n",
    "    return X_sm, y_sm"
   ]
  },
  {
   "cell_type": "code",
   "execution_count": 5,
   "metadata": {
    "collapsed": true
   },
   "outputs": [],
   "source": [
    "def undersampling(data, target):\n",
    "\n",
    "    tl = TomekLinks(return_indices=True, ratio='majority')\n",
    "    X_tl, y_tl, id_tl = tl.fit_sample(data, target)\n",
    "    print(sorted(Counter(y_tl).items()))\n",
    "\n",
    "    print('Removed indexes:', id_tl)\n",
    "\n",
    "    return X_tl, y_tl,"
   ]
  },
  {
   "cell_type": "code",
   "execution_count": 6,
   "metadata": {
    "collapsed": true
   },
   "outputs": [],
   "source": [
    "def balance_dataset(data, target):\n",
    "    smt = SMOTETomek(ratio='auto')\n",
    "    X_smt, y_smt = smt.fit_sample(data, target)\n",
    "\n",
    "    print(sorted(Counter(y_smt).items()))\n",
    "    return X_smt, y_smt"
   ]
  },
  {
   "cell_type": "code",
   "execution_count": 16,
   "metadata": {},
   "outputs": [],
   "source": [
    "def prepare():\n",
    "    \n",
    "    # our training and test datasets\n",
    "    X_train = pd.read_csv(home_dir + '/scania/training_set_new.csv')\n",
    "    X_test = pd.read_csv(home_dir + '/scania/test_set_new.csv') \n",
    "\n",
    "    X_train = preprocess_data(X_train)\n",
    "    X_test = preprocess_data(X_test)\n",
    "    \n",
    "    sns.countplot('class', data = X_train)\n",
    "    plt.title('Anomaly (1) vs. Normal (0)')\n",
    "        \n",
    "    y_train = X_train.iloc[:, 0]  # First column in labels\n",
    "    y_test = X_test.iloc[:, 0]  # First column in labels\n",
    "\n",
    "    X_train = X_train.drop(X_train.columns[0], axis=1)  # delete first column of xtrain\n",
    "    X_test = X_test.drop(X_test.columns[0], axis=1)  # delete first column of xtest    \n",
    "    X_train_balanced, y_train_balanced = undersampling(X_train, y_train)\n",
    "\n",
    "        \n",
    "    return X_train_balanced, X_test, y_train_balanced, y_test"
   ]
  },
  {
   "cell_type": "code",
   "execution_count": 18,
   "metadata": {
    "scrolled": false
   },
   "outputs": [
    {
     "ename": "NameError",
     "evalue": "name 'X_train_balanced' is not defined",
     "output_type": "error",
     "traceback": [
      "\u001b[1;31m---------------------------------------------------------------------------\u001b[0m",
      "\u001b[1;31mNameError\u001b[0m                                 Traceback (most recent call last)",
      "\u001b[1;32m<ipython-input-18-c4fa9ed2cf2f>\u001b[0m in \u001b[0;36m<module>\u001b[1;34m()\u001b[0m\n\u001b[0;32m      1\u001b[0m \u001b[1;31m# Getting the data from the csv files\u001b[0m\u001b[1;33m\u001b[0m\u001b[1;33m\u001b[0m\u001b[0m\n\u001b[1;32m----> 2\u001b[1;33m \u001b[0mX_train\u001b[0m\u001b[1;33m,\u001b[0m \u001b[0mX_test\u001b[0m\u001b[1;33m,\u001b[0m \u001b[0my_train\u001b[0m\u001b[1;33m,\u001b[0m \u001b[0my_test\u001b[0m \u001b[1;33m=\u001b[0m \u001b[0mprepare\u001b[0m\u001b[1;33m(\u001b[0m\u001b[1;33m)\u001b[0m\u001b[1;33m\u001b[0m\u001b[0m\n\u001b[0m",
      "\u001b[1;32m<ipython-input-16-92438ab60423>\u001b[0m in \u001b[0;36mprepare\u001b[1;34m()\u001b[0m\n\u001b[0;32m     19\u001b[0m \u001b[1;33m\u001b[0m\u001b[0m\n\u001b[0;32m     20\u001b[0m \u001b[1;33m\u001b[0m\u001b[0m\n\u001b[1;32m---> 21\u001b[1;33m     \u001b[1;32mreturn\u001b[0m \u001b[0mX_train_balanced\u001b[0m\u001b[1;33m,\u001b[0m \u001b[0mX_test\u001b[0m\u001b[1;33m,\u001b[0m \u001b[0my_train_balanced\u001b[0m\u001b[1;33m,\u001b[0m \u001b[0my_test\u001b[0m\u001b[1;33m\u001b[0m\u001b[0m\n\u001b[0m",
      "\u001b[1;31mNameError\u001b[0m: name 'X_train_balanced' is not defined"
     ]
    },
    {
     "data": {
      "image/png": "[encoded data removed]",
      "text/plain": [
       "<matplotlib.figure.Figure at 0x7fd9a2924f28>"
      ]
     },
     "metadata": {},
     "output_type": "display_data"
    }
   ],
   "source": [
    "# Getting the data from the csv files\n",
    "X_train, X_test, y_train, y_test = prepare()"
   ]
  },
  {
   "cell_type": "markdown",
   "metadata": {},
   "source": [
    "# Cost Function"
   ]
  },
  {
   "cell_type": "code",
   "execution_count": 9,
   "metadata": {
    "collapsed": true
   },
   "outputs": [],
   "source": [
    "def find_cost(y_test,predictions):\n",
    "    normal_false = 0\n",
    "    anomaly_false = 0\n",
    "    normal_correct = 0\n",
    "    anomaly_correct = 0\n",
    "    for i in range(0, len(predictions)):\n",
    "        if predictions[i] == 0 and y_test[i] == 1:  # He predicted normal but it was anomaly\n",
    "            normal_false += 1\n",
    "        elif predictions[i] == 1 and y_test[i] == 0:  # He predicted anomaly but it was normal\n",
    "            anomaly_false += 1\n",
    "        elif predictions[i] == 0 and y_test[i] == 0: # He predicted normal and it was normal\n",
    "            normal_correct += 1\n",
    "        elif predictions[i] == 1 and y_test[i] == 1: # He predicted anomaly and it was anomaly\n",
    "            anomaly_correct += 1\n",
    "            \n",
    "    total_cost = 10*anomaly_false + 500*normal_false\n",
    "    \n",
    "    # print ((\"False anomaly predictions are {}\".format(anomaly_false)))\n",
    "    # print ((\"False normal predictions are {}\".format(normal_false)))\n",
    "    # print ((\"Correct normal predictions are {}\".format(normal_correct)))\n",
    "    # print ((\"Correct anomaly predictions are {}\".format(anomaly_correct)))\n",
    "    # print ((\"Total Cost is {}\".format(total_cost)))\n",
    "    \n",
    "    return total_cost\n",
    "\n",
    "    "
   ]
  },
  {
   "cell_type": "markdown",
   "metadata": {},
   "source": [
    "# Feature Selection"
   ]
  },
  {
   "cell_type": "code",
   "execution_count": 10,
   "metadata": {
    "collapsed": true
   },
   "outputs": [],
   "source": [
    "def feature_selection(X_train,y_train, num_of_features, X_test, y_test):\n",
    "# Build RF classifier to use in feature selection\n",
    "    knn = KNeighborsClassifier(n_neighbors=3)\n",
    "    #create new scoring parameter based on cost function\n",
    "    #cost_scorer = make_scorer(find_cost, greater_is_better= False)\n",
    "    # Build step forward feature selection\n",
    "    sfs1 = sfs(knn,\n",
    "               k_features= num_of_features,\n",
    "               forward=True,\n",
    "               floating=False,\n",
    "               verbose=2,\n",
    "               scoring=\"f1\",\n",
    "               cv=5,\n",
    "               n_jobs=-1)\n",
    "\n",
    "    # Perform SFFS\n",
    "    sfs1 = sfs1.fit(X_train, y_train)\n",
    "\n",
    "    feat_cols = list(sfs1.k_feature_idx_)\n",
    "    print(feat_cols)\n",
    "    \n",
    "    return feat_cols"
   ]
  },
  {
   "cell_type": "code",
   "execution_count": 11,
   "metadata": {
    "collapsed": true
   },
   "outputs": [],
   "source": [
    "def execute_classifier(use_training, clf, X_train, X_test, y_train, y_test):\n",
    "\n",
    "    clf.fit(X_train, y_train)\n",
    "    predictions = clf.predict(X_test)\n",
    "    # predictions = np.round(predictions)\n",
    "\n",
    "    \n",
    "    \n",
    "    if  use_training:\n",
    "        prediction_prob = clf.predict_proba(X_test)\n",
    "       \n",
    "        predictions = []\n",
    "        true_labels = []\n",
    "        for pr in prediction_prob:\n",
    "            if pr[0] > 0.95:\n",
    "                predictions.append(0)  # Neg\n",
    "            else:\n",
    "                predictions.append(1)  # Pos\n",
    "\n",
    "    accuracy = 0\n",
    "    for i in range(0, len(predictions)):\n",
    "        if predictions[i] == y_test[i]:\n",
    "            accuracy +=1\n",
    "\n",
    "\n",
    "    conf_mat = confusion_matrix(y_test, predictions)        \n",
    "    average_precision = average_precision_score(y_test, predictions)\n",
    "\n",
    "    #find average precision recall\n",
    "    print('Average precision-recall score: {0:0.2f}'.format(average_precision))\n",
    "    precision, recall, _ = precision_recall_curve(y_test, predictions)\n",
    "\n",
    "    #plot precision recall\n",
    "\n",
    "\n",
    "    find_cost( y_test, predictions)\n",
    "    print ((\"Total Cost is {}\".format(total_cost)))\n",
    "\n",
    "    return predictions, accuracy/len(predictions)"
   ]
  },
  {
   "cell_type": "code",
   "execution_count": null,
   "metadata": {},
   "outputs": [],
   "source": [
    "def print_metrics(prediction, training_x, training_y):\n",
    "    print(\"Accuracy Score : \",accuracy_score(prediction,y_test))\n",
    "    print(\"F1 Score : \",f1_score(y_test, prediction, average=None))\n",
    "    print(\"Presicion Score :\",precision_score(y_test, prediction, average=None))\n",
    "    print(\"ROC AUC Score :\",roc_auc_score(y_test, prediction))\n",
    "    print(\"Cross Validation Score :\",cross_val_score(model, training_x, training_y, cv=10, n_jobs=-1))  \n",
    "\n"
   ]
  },
  {
   "cell_type": "markdown",
   "metadata": {},
   "source": [
    "# KNN with all features"
   ]
  },
  {
   "cell_type": "code",
   "execution_count": 12,
   "metadata": {},
   "outputs": [
    {
     "name": "stdout",
     "output_type": "stream",
     "text": [
      "Average precision-recall score: 0.32\n",
      "False anomaly predictions are 220\n",
      "False normal predictions are 75\n",
      "Correct normal predictions are 14530\n",
      "Correct anomaly predictions are 175\n",
      "Total Cost is 39700\n",
      "Accuracy of KNN with 170 features, is 98.03333 %\n"
     ]
    }
   ],
   "source": [
    "knn = KNeighborsClassifier(3)\n",
    "\n",
    "predictions, accuracy = execute_classifier(True, knn, X_train, X_test, y_train, y_test)\n",
    "print(\"Accuracy of KNN with 170 features, is {} %\".format(round((accuracy)*100, 5)))\n",
    "print_metrics()"
   ]
  },
  {
   "cell_type": "code",
   "execution_count": 19,
   "metadata": {},
   "outputs": [
    {
     "data": {
      "text/plain": [
       "(44917, 10)"
      ]
     },
     "execution_count": 19,
     "metadata": {},
     "output_type": "execute_result"
    }
   ],
   "source": [
    "#feat_cols = [9, 14, 21, 33, 37, 57, 94, 161, 162, 165]\n",
    "feat_cols = [0, 20, 71, 78, 89, 90, 100, 106, 142, 147]\n",
    "#for name, classifier in classifiers.items():\n",
    "#for i in feat_cols :\n",
    "#feat_cols = feature_selection(X_train,y_train, 10, X_test, y_test)\n",
    "x_train_less_feat = X_train[:, feat_cols]\n",
    "x_test_less_feat = X_test.iloc[:,feat_cols]\n",
    "\n",
    "x_train_less_feat.shape\n",
    "\n"
   ]
  },
  {
   "cell_type": "code",
   "execution_count": 20,
   "metadata": {},
   "outputs": [
    {
     "data": {
      "text/plain": [
       "(15000, 10)"
      ]
     },
     "execution_count": 20,
     "metadata": {},
     "output_type": "execute_result"
    }
   ],
   "source": [
    "x_test_less_feat.shape\n"
   ]
  },
  {
   "cell_type": "code",
   "execution_count": 15,
   "metadata": {
    "scrolled": true
   },
   "outputs": [
    {
     "name": "stdout",
     "output_type": "stream",
     "text": [
      "Average precision-recall score: 0.40\n",
      "False anomaly predictions are 187\n",
      "False normal predictions are 56\n",
      "Correct normal predictions are 14563\n",
      "Correct anomaly predictions are 194\n",
      "Total Cost is 29870\n",
      "Accuracy of KNN with 10 features, is 98.38 %\n"
     ]
    }
   ],
   "source": [
    "# predictions after feature reduction\n",
    "predictions_tocompare, accuracy_tocompare = execute_classifier(True, knn, x_train_less_feat, x_test_less_feat, y_train, y_test)\n",
    "print(\"Accuracy of KNN with {} features, is {} %\".format(len(feat_cols), round((accuracy_tocompare)*100, 5)))"
   ]
  },
  {
   "cell_type": "code",
   "execution_count": 21,
   "metadata": {},
   "outputs": [
    {
     "name": "stdout",
     "output_type": "stream",
     "text": [
      "Fitting 5 folds for each of 16 candidates, totalling 80 fits\n"
     ]
    },
    {
     "name": "stderr",
     "output_type": "stream",
     "text": [
      "[Parallel(n_jobs=-1)]: Using backend LokyBackend with 24 concurrent workers.\n",
      "[Parallel(n_jobs=-1)]: Done   2 tasks      | elapsed:   12.8s\n",
      "[Parallel(n_jobs=-1)]: Done  80 out of  80 | elapsed:   59.9s finished\n"
     ]
    },
    {
     "data": {
      "text/plain": [
       "{'metric': 'manhattan', 'n_neighbors': 5, 'weights': 'distance'}"
      ]
     },
     "execution_count": 21,
     "metadata": {},
     "output_type": "execute_result"
    }
   ],
   "source": [
    "n_neighbors = [3,5,11,19]\n",
    "weights = [\"uniform\", \"distance\"]\n",
    "metric = [\"euclidean\", \"manhattan\"]\n",
    "\n",
    "hyperF = dict(n_neighbors = n_neighbors, weights = weights,metric = metric)\n",
    "\n",
    "gridF = GridSearchCV(knn, hyperF, scoring=\"f1\", cv=5, verbose = 1, \n",
    "                      n_jobs = -1)\n",
    "bestF = gridF.fit(x_train_less_feat, y_train)\n",
    "\n",
    "gridF.best_params_"
   ]
  },
  {
   "cell_type": "code",
   "execution_count": 24,
   "metadata": {},
   "outputs": [
    {
     "name": "stdout",
     "output_type": "stream",
     "text": [
      "Average precision-recall score: 0.38\n",
      "False anomaly predictions are 238\n",
      "False normal predictions are 45\n",
      "Correct normal predictions are 14512\n",
      "Correct anomaly predictions are 205\n",
      "Total Cost is 24880\n",
      "Accuracy of KNN after GridSearch is 98.11333 %\n"
     ]
    }
   ],
   "source": [
    "best_grid = gridF.best_estimator_\n",
    "#predictions = best_grid.predict(x_test_less_feat)\n",
    "    # predictions = np.round(predictions)\n",
    "\n",
    "prediction_prob = best_grid.predict_proba(x_test_less_feat)\n",
    "       \n",
    "predictions = []\n",
    "true_labels = []\n",
    "for pr in prediction_prob:\n",
    "    if pr[0] > 0.95:\n",
    "        predictions.append(0)  # Neg\n",
    "    else:\n",
    "        predictions.append(1)  # Pos\n",
    "\n",
    "accuracy = 0\n",
    "for i in range(0, len(predictions)):\n",
    "    if predictions[i] == y_test[i]:\n",
    "        accuracy +=1\n",
    "\n",
    "\n",
    "conf_mat = confusion_matrix(y_test, predictions)        \n",
    "average_precision = average_precision_score(y_test, predictions)\n",
    "\n",
    "#find average precision recall\n",
    "print('Average precision-recall score: {0:0.2f}'.format(average_precision))\n",
    "precision, recall, _ = precision_recall_curve(y_test, predictions)\n",
    "\n",
    "    #plot precision recall\n",
    "\n",
    "precision, recall, _ = precision_recall_curve(y_test, predictions)\n",
    "\n",
    "\n",
    "\n",
    "# write_predictions_to_file(name + '_output.csv.dat', y_test)\n",
    "find_cost(y_test, predictions)\n",
    "# print (\"Accuracy of {} is {} %\".format(name, round((accuracy)*100, 5)))\n",
    "\n",
    "print(\"Accuracy of KNN after GridSearch is {} %\".format(round((accuracy/len(predictions))*100, 5)))\n"
   ]
  },
  {
   "cell_type": "code",
   "execution_count": null,
   "metadata": {
    "collapsed": true
   },
   "outputs": [],
   "source": []
  }
 ],
 "metadata": {
  "kernelspec": {
   "display_name": "Python 3",
   "language": "python",
   "name": "python3"
  },
  "language_info": {
   "codemirror_mode": {
    "name": "ipython",
    "version": 3
   },
   "file_extension": ".py",
   "mimetype": "text/x-python",
   "name": "python",
   "nbconvert_exporter": "python",
   "pygments_lexer": "ipython3",
   "version": "3.7.1"
  }
 },
 "nbformat": 4,
 "nbformat_minor": 1
}
