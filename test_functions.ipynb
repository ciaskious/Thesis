{
 "cells": [
  {
   "cell_type": "code",
   "execution_count": 7,
   "metadata": {
    "scrolled": false
   },
   "outputs": [
    {
     "name": "stdout",
     "output_type": "stream",
     "text": [
      "0.19.1\n"
     ]
    }
   ],
   "source": [
    "#!/usr/bin/env python\n",
    "\n",
    "import pickle\n",
    "import os\n",
    "import sklearn\n",
    "from scipy import stats, integrate\n",
    "import pandas as pd\n",
    "from sklearn import metrics\n",
    "from itertools import cycle\n",
    "\n",
    "import matplotlib.pyplot as plt\n",
    "%matplotlib inline\n",
    "\n",
    "print(sklearn.__version__)\n",
    "import numpy as np\n",
    "\n",
    "import seaborn as sns \n",
    "sns.set(color_codes=True)\n",
    "\n",
    "# How to find cost\n",
    "home_dir = '~/Documents/thesis/datasets'\n",
    "\n",
    "\n",
    "def find_cost(predictions, y_test):\n",
    "    # y_test should be ground truth array\n",
    "    cost_1_instances = 0\n",
    "    cost_2_instances = 0\n",
    "    normal_correct = 0\n",
    "    anomaly_correct = 0\n",
    "    for i in range(0, len(predictions)):\n",
    "        if predictions[i] == 0 and y_test[i] == 1:  # He predicted normal but it was anomaly/breakdown\n",
    "            cost_2_instances += 1\n",
    "        elif predictions[i] == 1 and y_test[i] == 0:  # He predicted anomaly/breakdown but it was normal\n",
    "            cost_1_instances += 1\n",
    "        elif predictions[i] == 0 and y_test[i] == 0:  # He predicted normal and it was normal\n",
    "            normal_correct += 1\n",
    "        elif predictions[i] == 1 and y_test[i] == 1:  # He predicted anomaly/breakdown and it was anomaly/breakdown\n",
    "            anomaly_correct += 1\n",
    "    \n",
    "    accuracy=0\n",
    "    for i in range(0, len(predictions)):\n",
    "            if predictions[i] == y_test[i]:\n",
    "                accuracy += 1\n",
    "    accuracy = accuracy/len(predictions)\n",
    "    \n",
    "    average_precision = metrics.average_precision_score(y_test, predictions)\n",
    "\n",
    "    #find average precision recall\n",
    "    print('Average precision-recall score: {0:0.2f}'.format(average_precision))\n",
    "    precision, recall, _ = metrics.precision_recall_curve(y_test, predictions)\n",
    "\n",
    "    plt.step(recall, precision, color='b', alpha=0.2,\n",
    "             where='post')\n",
    "    plt.fill_between(recall, precision, step='post', alpha=0.2,\n",
    "                     color='b')\n",
    "\n",
    "    plt.xlabel('Recall')\n",
    "    plt.ylabel('Precision')\n",
    "    plt.ylim([0.0, 1.05])\n",
    "    plt.xlim([0.0, 1.0])\n",
    "    plt.title('2-class Precision-Recall curve: AP={0:0.2f}'.format(\n",
    "              average_precision))\n",
    "        \n",
    "    print (\"Accuracy of {} is {} %\".format(name, round((accuracy)*100, 5)))\n",
    "    print((\"cost_1_instances are {}\".format(cost_1_instances)))\n",
    "    print((\"cost_2_instances are {}\".format(cost_2_instances)))\n",
    "    print((\"Correct normal predictions are {}\".format(normal_correct)))\n",
    "    print((\"Correct anomaly predictions are {}\".format(anomaly_correct)))\n",
    "    print((\"Total Cost is {}\".format(10 * cost_1_instances + 500 * cost_2_instances)))\n",
    "\n",
    "\n",
    "# How to make predictions\n",
    "# Shape of X_test should be N x 170, where N is the number of data points/samples you want to make predictions on\n",
    "def predict_batch(pickle_name, X_test):\n",
    "    predictions = []\n",
    "    with open(pickle_name, 'rb') as f:\n",
    "        clf = pickle.load(f)\n",
    "        prediction_prob = clf.predict_proba(X_test)\n",
    "        print(prediction_prob)\n",
    "        df = pd.DataFrame(prediction_prob)\n",
    "          \n",
    "        #df.to_csv(\"/home/anastasia/Documents/thesis/datasets/propabilities.csv\")\n",
    "        \n",
    "        for pr in prediction_prob:\n",
    "            if pr[0] > 0.95:\n",
    "                predictions.append(0)  # Normal\n",
    "            else:\n",
    "                predictions.append(1)  # anomaly/breakdown\n",
    "    return predictions\n",
    "\n"
   ]
  },
  {
   "cell_type": "code",
   "execution_count": 8,
   "metadata": {
    "scrolled": true
   },
   "outputs": [
    {
     "name": "stdout",
     "output_type": "stream",
     "text": [
      "[[0.9960921  0.0039079 ]\n",
      " [0.99737575 0.00262425]\n",
      " [0.99817036 0.00182964]\n",
      " ...\n",
      " [0.99719397 0.00280603]\n",
      " [0.99759891 0.00240109]\n",
      " [0.9975378  0.0024622 ]]\n",
      "Average precision-recall score: 0.43\n",
      "Accuracy of L2logistic (OvR) is 97.51219 %\n",
      "cost_1_instances are 175\n",
      "cost_2_instances are 24\n",
      "Correct normal predictions are 7632\n",
      "Correct anomaly predictions are 168\n",
      "Total Cost is 13750\n"
     ]
    },
    {
     "data": {
      "image/png": "[encoded data removed]",
      "text/plain": [
       "<matplotlib.figure.Figure at 0x7f0bf479bb00>"
      ]
     },
     "metadata": {},
     "output_type": "display_data"
    }
   ],
   "source": [
    "if __name__ == '__main__':\n",
    "    def preprocess_data(data):\n",
    "        data = data.replace(\"na\", 0)\n",
    "        data = data.replace(\"neg\", 0)\n",
    "        data = data.replace(\"pos\", 1)\n",
    "        return data\n",
    "\n",
    "\n",
    "    \n",
    "    X_test = pd.read_csv(home_dir+'/live_data_a.csv').astype(str)\n",
    "    X_test = preprocess_data(X_test)\n",
    "    \n",
    "    y_test = X_test['class'].astype(int)\n",
    "    X_test = X_test.drop('class', axis=1)\n",
    "\n",
    "\n",
    "    name = 'L2logistic (OvR)'\n",
    "    find_cost(predict_batch('/home/anastasia/Documents/thesis/datasets/new_models/'+name+'.pickle', X_test), y_test)\n",
    "    "
   ]
  }
 ],
 "metadata": {
  "kernelspec": {
   "display_name": "Python 3",
   "language": "python",
   "name": "python3"
  },
  "language_info": {
   "codemirror_mode": {
    "name": "ipython",
    "version": 3
   },
   "file_extension": ".py",
   "mimetype": "text/x-python",
   "name": "python",
   "nbconvert_exporter": "python",
   "pygments_lexer": "ipython3",
   "version": "3.6.4"
  }
 },
 "nbformat": 4,
 "nbformat_minor": 2
}
